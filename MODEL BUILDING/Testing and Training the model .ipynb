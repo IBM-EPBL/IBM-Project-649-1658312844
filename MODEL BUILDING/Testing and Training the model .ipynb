{
 "cells": [
  {
   "cell_type": "code",
   "execution_count": null,
   "id": "c6ca40a4",
   "metadata": {},
   "outputs": [],
   "source": [
    "XGBoost=xgboost.XGBRFClassifier()\n",
    "Rand_forest=sklearn.ensemble.RandomForestClassifier()\n",
    "svm=sklearn.svm.SVC()\n",
    "Dtree=sklearn.tree.DecisionTreeClassifier()\n",
    "GBM=sklearn.ensemble.GradientBoostingClassifier()\n",
    "log=sklearn.linear_model.LogisticRegression()"
   ]
  },
  {
   "cell_type": "code",
   "execution_count": null,
   "id": "4af061c4",
   "metadata": {},
   "outputs": [],
   "source": [
    "XGBoost.fit(x_train,y_train)\n",
    "Rand_forest.fit(x_train,y_train)\n",
    "svm.fit(x_train,y_train)\n",
    "Dtree.fit(x_train,y_train)\n",
    "GBM.fit(x_train,y_train)\n",
    "log.fit(x_train,y_train)"
   ]
  },
  {
   "cell_type": "code",
   "execution_count": null,
   "id": "8224d35e",
   "metadata": {},
   "outputs": [],
   "source": [
    "p1=XGBoost.predict(x_train)\n",
    "p2=Rand_forest.predict(x_train)\n",
    "p3=svm.predict(x_train)\n",
    "p4=Dtree.predict(x_train)\n",
    "p5=GBM.predict(x_train)\n",
    "p6=log.predict(x_train)"
   ]
  },
  {
   "cell_type": "code",
   "execution_count": null,
   "id": "93d4237b",
   "metadata": {},
   "outputs": [],
   "source": [
    "print(\"xgboost:\",metrices.accuracy_score(y_train,p1))\n",
    "print(\"Rand_forest:\",metrices.accuracy_score(y_train,p2))\n",
    "print(\"svm:\",metrices.accuracy_score(y_train,p3))\n",
    "print(\"Dtree:\",metrices.accuracy_score(y_train,p4))\n",
    "print(\"GBM:\",metrices.accuracy_score(y_train,p5))\n",
    "print(\"log:\",metrices.accuracy_score(y_train,p6))"
   ]
  },
  {
   "cell_type": "code",
   "execution_count": null,
   "id": "3b0532dc",
   "metadata": {},
   "outputs": [],
   "source": []
  }
 ],
 "metadata": {
  "kernelspec": {
   "display_name": "Python 3 (ipykernel)",
   "language": "python",
   "name": "python3"
  },
  "language_info": {
   "codemirror_mode": {
    "name": "ipython",
    "version": 3
   },
   "file_extension": ".py",
   "mimetype": "text/x-python",
   "name": "python",
   "nbconvert_exporter": "python",
   "pygments_lexer": "ipython3",
   "version": "3.9.12"
  }
 },
 "nbformat": 4,
 "nbformat_minor": 5
}
